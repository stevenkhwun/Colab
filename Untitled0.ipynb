{
  "nbformat": 4,
  "nbformat_minor": 0,
  "metadata": {
    "colab": {
      "provenance": [],
      "authorship_tag": "ABX9TyO//m69fgpU1NI9UUjjoLLi",
      "include_colab_link": true
    },
    "kernelspec": {
      "name": "python3",
      "display_name": "Python 3"
    },
    "language_info": {
      "name": "python"
    }
  },
  "cells": [
    {
      "cell_type": "markdown",
      "metadata": {
        "id": "view-in-github",
        "colab_type": "text"
      },
      "source": [
        "<a href=\"https://colab.research.google.com/github/stevenkhwun/Colab/blob/main/Untitled0.ipynb\" target=\"_parent\"><img src=\"https://colab.research.google.com/assets/colab-badge.svg\" alt=\"Open In Colab\"/></a>"
      ]
    },
    {
      "cell_type": "code",
      "metadata": {
        "colab": {
          "base_uri": "https://localhost:8080/"
        },
        "id": "sfM1FxZoEHfy",
        "outputId": "21b2a437-0013-4b0c-8c63-a07fac8a42ae"
      },
      "source": [
        "from google.colab import drive\n",
        "import os\n",
        "mountpoint = '/content/drive'\n",
        "drive.mount(mountpoint, force_remount=True)\n",
        "path = mountpoint + '/My Drive/'\n",
        "unzip_cmd = 'unzip ML_Finance_Codes.zip -d ' + path.replace(' ', '\\ ')\n",
        "dir_path = mountpoint + '/My Drive' + '/ML_Finance_Codes'\n",
        "\n",
        "if os.path.exists('ML_Finance_Codes.zip'):\n",
        "    if os.path.exists(dir_path):\n",
        "        print(dir_path, 'exists already.')\n",
        "    else:\n",
        "        os.system(unzip_cmd)\n",
        "else:\n",
        "    print('ML_Finance_Codes.zip not in current working directory!')"
      ],
      "execution_count": null,
      "outputs": [
        {
          "output_type": "stream",
          "name": "stdout",
          "text": [
            "Mounted at /content/drive\n"
          ]
        }
      ]
    },
    {
      "cell_type": "markdown",
      "source": [
        "It seems the above codes created a directory 'ML_Finance_Codes' in the google drive."
      ],
      "metadata": {
        "id": "mk7BA6QDUk7l"
      }
    }
  ]
}