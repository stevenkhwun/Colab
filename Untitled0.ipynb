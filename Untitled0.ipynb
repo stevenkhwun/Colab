{
 "cells": [
  {
   "cell_type": "markdown",
   "metadata": {
    "colab_type": "text",
    "id": "view-in-github"
   },
   "source": [
    "<a href=\"https://colab.research.google.com/github/stevenkhwun/Colab/blob/main/Untitled0.ipynb\" target=\"_parent\"><img src=\"https://colab.research.google.com/assets/colab-badge.svg\" alt=\"Open In Colab\"/></a>"
   ]
  },
  {
   "cell_type": "code",
   "execution_count": null,
   "metadata": {
    "colab": {
     "base_uri": "https://localhost:8080/"
    },
    "id": "sfM1FxZoEHfy",
    "outputId": "21b2a437-0013-4b0c-8c63-a07fac8a42ae"
   },
   "outputs": [
    {
     "name": "stdout",
     "output_type": "stream",
     "text": [
      "Mounted at /content/drive\n"
     ]
    }
   ],
   "source": [
    "from google.colab import drive\n",
    "import os\n",
    "mountpoint = '/content/drive'\n",
    "drive.mount(mountpoint, force_remount=True)\n",
    "path = mountpoint + '/My Drive/'\n",
    "unzip_cmd = 'unzip ML_Finance_Codes.zip -d ' + path.replace(' ', '\\ ')\n",
    "dir_path = mountpoint + '/My Drive' + '/ML_Finance_Codes'\n",
    "\n",
    "if os.path.exists('ML_Finance_Codes.zip'):\n",
    "    if os.path.exists(dir_path):\n",
    "        print(dir_path, 'exists already.')\n",
    "    else:\n",
    "        os.system(unzip_cmd)\n",
    "else:\n",
    "    print('ML_Finance_Codes.zip not in current working directory!')"
   ]
  },
  {
   "cell_type": "markdown",
   "metadata": {
    "id": "mk7BA6QDUk7l"
   },
   "source": [
    "It seems the above codes created a directory 'ML_Finance_Codes' in the google drive."
   ]
  }
 ],
 "metadata": {
  "colab": {
   "authorship_tag": "ABX9TyO//m69fgpU1NI9UUjjoLLi",
   "include_colab_link": true,
   "provenance": []
  },
  "kernelspec": {
   "display_name": "Python 3 (ipykernel)",
   "language": "python",
   "name": "python3"
  },
  "language_info": {
   "codemirror_mode": {
    "name": "ipython",
    "version": 3
   },
   "file_extension": ".py",
   "mimetype": "text/x-python",
   "name": "python",
   "nbconvert_exporter": "python",
   "pygments_lexer": "ipython3",
   "version": "3.11.5"
  }
 },
 "nbformat": 4,
 "nbformat_minor": 4
}
