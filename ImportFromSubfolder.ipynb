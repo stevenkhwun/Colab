{
 "cells": [
  {
   "cell_type": "markdown",
   "id": "fa9bcf8d",
   "metadata": {},
   "source": [
    "# Access program files and data located in subfolders\n",
    "\n",
    "\n",
    "\n",
    "This notebook demonstrate how to import python modules and data from subfolder of the current directory in a local machine.\n",
    "\n",
    "Assume the module `some_module` (`some_module.py`) is located in the subfolder `Module` and data file `stock_px.csv` is located in the subfolder `Data` under current working directory.\n"
   ]
  },
  {
   "cell_type": "markdown",
   "id": "0f4d9b5d",
   "metadata": {},
   "source": [
    "## Import module from the subfolder\n",
    "\n",
    "First, we will demonstrate how to import the module file from the subfolder. Before importing, we examine the contents of the program file `some_module.py` by the following command:\n",
    "\n",
    "```Python\n",
    "# Python code\n",
    "%load Module/some_module.py\n",
    "```\n",
    "\n",
    "After the above command has been executed, the contents of the program file will be displayed in the cell (i.e. the contents will overwrite the command just like below)."
   ]
  },
  {
   "cell_type": "code",
   "execution_count": null,
   "id": "97a8a584",
   "metadata": {},
   "outputs": [],
   "source": [
    "# %load Module/some_module.py\n",
    "# some_module.py\n",
    "# This file is an example file used in the book\n",
    "# Python for Data Analysis (p.32)\n",
    "# This file is used in my Jupyter Notebook Chp01 in my GitHub repository P4DS\n",
    "# Last updated at 2023.03.25\n",
    "PI = 3.14159\n",
    "\n",
    "def f(x):\n",
    "    return x + 2\n",
    "    \n",
    "def g(a, b):\n",
    "    return a + b\n"
   ]
  },
  {
   "cell_type": "markdown",
   "id": "61e577f9",
   "metadata": {},
   "source": [
    "We can import the module using the following command:"
   ]
  },
  {
   "cell_type": "code",
   "execution_count": 33,
   "id": "ade8d9c5",
   "metadata": {},
   "outputs": [],
   "source": [
    "from Module import some_module"
   ]
  },
  {
   "cell_type": "markdown",
   "id": "6c9d8c19",
   "metadata": {},
   "source": [
    "We can perform some function of the module by the following command:"
   ]
  },
  {
   "cell_type": "code",
   "execution_count": 34,
   "id": "f8d0761a",
   "metadata": {},
   "outputs": [
    {
     "data": {
      "text/plain": [
       "17"
      ]
     },
     "execution_count": 34,
     "metadata": {},
     "output_type": "execute_result"
    }
   ],
   "source": [
    "some_module.f(15)"
   ]
  },
  {
   "cell_type": "markdown",
   "id": "140c2249",
   "metadata": {},
   "source": [
    "We can assign a short cut by the following command and perform the function using the shortcut:"
   ]
  },
  {
   "cell_type": "code",
   "execution_count": 37,
   "id": "8738d874",
   "metadata": {},
   "outputs": [],
   "source": [
    "from Module import some_module as sm"
   ]
  },
  {
   "cell_type": "code",
   "execution_count": 38,
   "id": "db525850",
   "metadata": {},
   "outputs": [
    {
     "data": {
      "text/plain": [
       "3.14159"
      ]
     },
     "execution_count": 38,
     "metadata": {},
     "output_type": "execute_result"
    }
   ],
   "source": [
    "sm.PI"
   ]
  },
  {
   "cell_type": "markdown",
   "id": "fe400d82",
   "metadata": {},
   "source": [
    "Finally, if the module program file is located in the same directory, just use the following command:\n",
    "\n",
    "```Python\n",
    "# Python code\n",
    "import some_module\n",
    "```"
   ]
  },
  {
   "cell_type": "markdown",
   "id": "52099d96",
   "metadata": {},
   "source": [
    "## Read data from subfolder"
   ]
  },
  {
   "cell_type": "code",
   "execution_count": 16,
   "id": "9d06f129",
   "metadata": {},
   "outputs": [],
   "source": [
    "import pandas as pd"
   ]
  },
  {
   "cell_type": "code",
   "execution_count": 17,
   "id": "ec0c9f24",
   "metadata": {},
   "outputs": [
    {
     "name": "stdout",
     "output_type": "stream",
     "text": [
      "<class 'pandas.core.frame.DataFrame'>\n",
      "DatetimeIndex: 2214 entries, 2003-02-01 to 2011-10-14\n",
      "Data columns (total 4 columns):\n",
      " #   Column  Non-Null Count  Dtype  \n",
      "---  ------  --------------  -----  \n",
      " 0   AAPL    2214 non-null   float64\n",
      " 1   MSFT    2214 non-null   float64\n",
      " 2   XOM     2214 non-null   float64\n",
      " 3   SPX     2214 non-null   float64\n",
      "dtypes: float64(4)\n",
      "memory usage: 86.5 KB\n"
     ]
    }
   ],
   "source": [
    "stock_px = \"Data/stock_px.csv\"\n",
    "close_px = pd.read_csv(stock_px, parse_dates=True, index_col=0)\n",
    "close_px.info()"
   ]
  }
 ],
 "metadata": {
  "kernelspec": {
   "display_name": "Python 3 (ipykernel)",
   "language": "python",
   "name": "python3"
  },
  "language_info": {
   "codemirror_mode": {
    "name": "ipython",
    "version": 3
   },
   "file_extension": ".py",
   "mimetype": "text/x-python",
   "name": "python",
   "nbconvert_exporter": "python",
   "pygments_lexer": "ipython3",
   "version": "3.9.5"
  }
 },
 "nbformat": 4,
 "nbformat_minor": 5
}
