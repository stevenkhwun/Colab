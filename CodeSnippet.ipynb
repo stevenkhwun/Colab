{
  "nbformat": 4,
  "nbformat_minor": 0,
  "metadata": {
    "colab": {
      "provenance": [],
      "toc_visible": true,
      "authorship_tag": "ABX9TyNc4SNPKId727UiwVnOcBGy",
      "include_colab_link": true
    },
    "kernelspec": {
      "name": "python3",
      "display_name": "Python 3"
    },
    "language_info": {
      "name": "python"
    }
  },
  "cells": [
    {
      "cell_type": "markdown",
      "metadata": {
        "id": "view-in-github",
        "colab_type": "text"
      },
      "source": [
        "<a href=\"https://colab.research.google.com/github/stevenkhwun/Colab/blob/main/CodeSnippet.ipynb\" target=\"_parent\"><img src=\"https://colab.research.google.com/assets/colab-badge.svg\" alt=\"Open In Colab\"/></a>"
      ]
    },
    {
      "cell_type": "markdown",
      "source": [
        "# Some arithmetic operations"
      ],
      "metadata": {
        "id": "29nJECfbd_6_"
      }
    },
    {
      "cell_type": "code",
      "source": [
        "# Float division (normal division)\n",
        "7/3"
      ],
      "metadata": {
        "colab": {
          "base_uri": "https://localhost:8080/"
        },
        "id": "JOMSUIgEeJx5",
        "outputId": "ae313d23-124d-4070-b9d5-c2001d0c97be"
      },
      "execution_count": null,
      "outputs": [
        {
          "output_type": "execute_result",
          "data": {
            "text/plain": [
              "2.3333333333333335"
            ]
          },
          "metadata": {},
          "execution_count": 85
        }
      ]
    },
    {
      "cell_type": "code",
      "source": [
        "# Interger division\n",
        "print(11 // 3)\n",
        "print(11 // 3.0)\n",
        "print(11.0 // 3)"
      ],
      "metadata": {
        "colab": {
          "base_uri": "https://localhost:8080/"
        },
        "id": "2J89BzVGeY0X",
        "outputId": "67c386a4-2d2c-408e-c671-f8c5c0d01424"
      },
      "execution_count": null,
      "outputs": [
        {
          "output_type": "stream",
          "name": "stdout",
          "text": [
            "3\n",
            "3.0\n",
            "3.0\n"
          ]
        }
      ]
    },
    {
      "cell_type": "code",
      "source": [
        "# Remainder\n",
        "11%3"
      ],
      "metadata": {
        "colab": {
          "base_uri": "https://localhost:8080/"
        },
        "id": "ENEqCQX7fRCQ",
        "outputId": "c34b7745-57d7-4ebc-f7c5-fcb12f49aecf"
      },
      "execution_count": null,
      "outputs": [
        {
          "output_type": "execute_result",
          "data": {
            "text/plain": [
              "2"
            ]
          },
          "metadata": {},
          "execution_count": 94
        }
      ]
    },
    {
      "cell_type": "code",
      "source": [
        "# Exponent\n",
        "4**3"
      ],
      "metadata": {
        "colab": {
          "base_uri": "https://localhost:8080/"
        },
        "id": "q8nYwbm_fkhm",
        "outputId": "d722d3d3-deed-42c0-9dd1-cd133c4a76ca"
      },
      "execution_count": null,
      "outputs": [
        {
          "output_type": "execute_result",
          "data": {
            "text/plain": [
              "64"
            ]
          },
          "metadata": {},
          "execution_count": 95
        }
      ]
    },
    {
      "cell_type": "markdown",
      "source": [
        "# List"
      ],
      "metadata": {
        "id": "t-Pv3WhFhANl"
      }
    },
    {
      "cell_type": "code",
      "source": [
        "list1 = [2, 33, 222, 14, 25]\n",
        "print(list1[0])\n",
        "print(list1[1])\n",
        "print(list1[4])\n",
        "print(list1[-1])\n",
        "print(list1[-2])\n",
        "print(list1[-5])"
      ],
      "metadata": {
        "colab": {
          "base_uri": "https://localhost:8080/"
        },
        "id": "A1x75BYjhCUb",
        "outputId": "ca5131c6-5fdf-4f96-c236-7facadc24314"
      },
      "execution_count": null,
      "outputs": [
        {
          "output_type": "stream",
          "name": "stdout",
          "text": [
            "2\n",
            "33\n",
            "25\n",
            "25\n",
            "14\n",
            "2\n"
          ]
        }
      ]
    },
    {
      "cell_type": "code",
      "source": [
        "# Sort a numerical list\n",
        "list = [\"2\", \"5\", \"7\", \"8\", \"1\"]\n",
        "list = [int(i) for i in list]\n",
        "list.sort()\n",
        "list"
      ],
      "metadata": {
        "colab": {
          "base_uri": "https://localhost:8080/"
        },
        "id": "ppmw4rszh5gz",
        "outputId": "2d9ffb99-cbed-42b3-ecfd-d3f880657f49"
      },
      "execution_count": null,
      "outputs": [
        {
          "output_type": "execute_result",
          "data": {
            "text/plain": [
              "[1, 2, 5, 7, 8]"
            ]
          },
          "metadata": {},
          "execution_count": 110
        }
      ]
    },
    {
      "cell_type": "code",
      "source": [
        "list3 = [1, 689, 777, -5, 3]\n",
        "list3.sort()\n",
        "list3"
      ],
      "metadata": {
        "colab": {
          "base_uri": "https://localhost:8080/"
        },
        "id": "dEbXfVbpid_x",
        "outputId": "025492fe-5e50-4841-b853-43e709e8ae6e"
      },
      "execution_count": null,
      "outputs": [
        {
          "output_type": "execute_result",
          "data": {
            "text/plain": [
              "[-5, 1, 3, 689, 777]"
            ]
          },
          "metadata": {},
          "execution_count": 111
        }
      ]
    },
    {
      "cell_type": "code",
      "source": [
        "# Reverse a list\n",
        "list3.reverse()\n",
        "list3"
      ],
      "metadata": {
        "colab": {
          "base_uri": "https://localhost:8080/"
        },
        "id": "_eT6Qj3qivB9",
        "outputId": "acbf45c6-6f30-4e20-ccf9-3bc7984d0e5e"
      },
      "execution_count": null,
      "outputs": [
        {
          "output_type": "execute_result",
          "data": {
            "text/plain": [
              "[777, 689, 3, 1, -5]"
            ]
          },
          "metadata": {},
          "execution_count": 112
        }
      ]
    },
    {
      "cell_type": "markdown",
      "source": [
        "# Print prime numbers less than 20"
      ],
      "metadata": {
        "id": "v6OHnPbQFyxD"
      }
    },
    {
      "cell_type": "code",
      "execution_count": null,
      "metadata": {
        "colab": {
          "base_uri": "https://localhost:8080/"
        },
        "id": "51FZZaI3Fv5P",
        "outputId": "22174688-8cae-4304-8368-59670fd427a7"
      },
      "outputs": [
        {
          "output_type": "stream",
          "name": "stdout",
          "text": [
            "2\n",
            "3\n",
            "5\n",
            "7\n",
            "11\n",
            "13\n",
            "17\n",
            "19\n"
          ]
        }
      ],
      "source": [
        "# Method 1\n",
        "for num in range(2,20):\n",
        "    prime = True\n",
        "    for i in range(2,num):\n",
        "        if (num%i==0):\n",
        "            prime = False\n",
        "    if prime:\n",
        "       print (num)"
      ]
    },
    {
      "cell_type": "markdown",
      "source": [
        "**Note the use of `range`**\n",
        "\n",
        "There is no number in the range from x to x, i.e. `range(x,x)`, the code\n",
        "```python\n",
        "for i in range(2,2)\n",
        "```\n",
        "will returns nothing."
      ],
      "metadata": {
        "id": "EWxiiI1YFx5C"
      }
    },
    {
      "cell_type": "code",
      "source": [
        "# Method 2\n",
        "for num in range(2,20):\n",
        "    if all(num%i!=0 for i in range(2,num)):\n",
        "       print (num)"
      ],
      "metadata": {
        "colab": {
          "base_uri": "https://localhost:8080/"
        },
        "id": "lgTCUur_G3K1",
        "outputId": "f784d3bf-6273-4f42-e315-a8c77ee90de2"
      },
      "execution_count": null,
      "outputs": [
        {
          "output_type": "stream",
          "name": "stdout",
          "text": [
            "2\n",
            "3\n",
            "5\n",
            "7\n",
            "11\n",
            "13\n",
            "17\n",
            "19\n"
          ]
        }
      ]
    },
    {
      "cell_type": "markdown",
      "source": [
        "**`all()` function**\n",
        "\n",
        "The `all()` function returns `True` if all items in an iterable are true, otherwise it returns False. If the iterable object is empty, the `all()` function also returns `True`."
      ],
      "metadata": {
        "id": "bNG41RcoXGfs"
      }
    },
    {
      "cell_type": "code",
      "source": [
        "# all() function example\n",
        "mylist = [True, True, True]\n",
        "x = all(mylist)\n",
        "print(x)"
      ],
      "metadata": {
        "colab": {
          "base_uri": "https://localhost:8080/"
        },
        "id": "_BNMfp2zPlkV",
        "outputId": "28a619db-ad09-4c23-b694-39c71d99c9b1"
      },
      "execution_count": null,
      "outputs": [
        {
          "output_type": "stream",
          "name": "stdout",
          "text": [
            "True\n"
          ]
        }
      ]
    },
    {
      "cell_type": "markdown",
      "source": [
        "# The largest of three numbers"
      ],
      "metadata": {
        "id": "ojAsJkKfZDrU"
      }
    },
    {
      "cell_type": "code",
      "source": [
        "# A python program to find the larges of three numbers\n",
        "num1 = int(input(\"Enter first number: \"))\n",
        "num2 = int(input(\"Enter second number: \"))\n",
        "num3 = int(input(\"Enter third number: \"))\n",
        "\n",
        "if (num1 > num2) and (num1 > num3):\n",
        "  largest = num1\n",
        "elif (num2 > num1) and (num2 > num3):\n",
        "  largest = num2\n",
        "else:\n",
        "  largest = num3\n",
        "\n",
        "print(\"The largest number is\", largest,\".\")\n"
      ],
      "metadata": {
        "colab": {
          "base_uri": "https://localhost:8080/"
        },
        "id": "h3KtiSSjMy_t",
        "outputId": "133ebd48-8c20-4eaf-ec4e-846a3eb8b8ef"
      },
      "execution_count": null,
      "outputs": [
        {
          "output_type": "stream",
          "name": "stdout",
          "text": [
            "Enter first number: 689\n",
            "Enter second number: 1979\n",
            "Enter third number: 1\n",
            "The largest number is 1979 .\n"
          ]
        }
      ]
    },
    {
      "cell_type": "markdown",
      "source": [
        "# Illustrates the CLT"
      ],
      "metadata": {
        "id": "7XKEeOj1io05"
      }
    },
    {
      "cell_type": "code",
      "source": [
        "# p. 170 on the book \"A Primer in Econometric Theory\"\n",
        "\n",
        "import numpy as np\n",
        "import scipy.stats as st\n",
        "\n",
        "num_reps = 5000\n",
        "outcomes = np.empty(num_reps)\n",
        "N, k = 1000, 5      # k = degrees of freedom\n",
        "chi = st.chi2(k)\n",
        "\n",
        "for i in range(num_reps):\n",
        "  xvec = chi.rvs(N)\n",
        "  outcomes[i] = np.sqrt(N/ (2 * k)) * (xvec.mean() - k)"
      ],
      "metadata": {
        "id": "rKm-WybHiu-q"
      },
      "execution_count": 1,
      "outputs": []
    }
  ]
}