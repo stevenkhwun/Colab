{
  "nbformat": 4,
  "nbformat_minor": 0,
  "metadata": {
    "colab": {
      "provenance": [],
      "toc_visible": true,
      "authorship_tag": "ABX9TyNFl/wzcIFdD0FG+l2Ikr0t",
      "include_colab_link": true
    },
    "kernelspec": {
      "name": "python3",
      "display_name": "Python 3"
    },
    "language_info": {
      "name": "python"
    }
  },
  "cells": [
    {
      "cell_type": "markdown",
      "metadata": {
        "id": "view-in-github",
        "colab_type": "text"
      },
      "source": [
        "<a href=\"https://colab.research.google.com/github/stevenkhwun/Colab/blob/main/CodeSnippet.ipynb\" target=\"_parent\"><img src=\"https://colab.research.google.com/assets/colab-badge.svg\" alt=\"Open In Colab\"/></a>"
      ]
    },
    {
      "cell_type": "markdown",
      "source": [
        "# Print prime numbers less than 20"
      ],
      "metadata": {
        "id": "v6OHnPbQFyxD"
      }
    },
    {
      "cell_type": "code",
      "execution_count": 71,
      "metadata": {
        "colab": {
          "base_uri": "https://localhost:8080/"
        },
        "id": "51FZZaI3Fv5P",
        "outputId": "22174688-8cae-4304-8368-59670fd427a7"
      },
      "outputs": [
        {
          "output_type": "stream",
          "name": "stdout",
          "text": [
            "2\n",
            "3\n",
            "5\n",
            "7\n",
            "11\n",
            "13\n",
            "17\n",
            "19\n"
          ]
        }
      ],
      "source": [
        "# Method 1\n",
        "for num in range(2,20):\n",
        "    prime = True\n",
        "    for i in range(2,num):\n",
        "        if (num%i==0):\n",
        "            prime = False\n",
        "    if prime:\n",
        "       print (num)"
      ]
    },
    {
      "cell_type": "markdown",
      "source": [
        "**Note the use of `range`**\n",
        "\n",
        "There is no number in the range from x to x, i.e. `range(x,x)`, the code\n",
        "```python\n",
        "for i in range(2,2)\n",
        "```\n",
        "will returns nothing."
      ],
      "metadata": {
        "id": "EWxiiI1YFx5C"
      }
    },
    {
      "cell_type": "code",
      "source": [
        "# Method 2\n",
        "for num in range(2,20):\n",
        "    if all(num%i!=0 for i in range(2,num)):\n",
        "       print (num)"
      ],
      "metadata": {
        "colab": {
          "base_uri": "https://localhost:8080/"
        },
        "id": "lgTCUur_G3K1",
        "outputId": "f784d3bf-6273-4f42-e315-a8c77ee90de2"
      },
      "execution_count": 72,
      "outputs": [
        {
          "output_type": "stream",
          "name": "stdout",
          "text": [
            "2\n",
            "3\n",
            "5\n",
            "7\n",
            "11\n",
            "13\n",
            "17\n",
            "19\n"
          ]
        }
      ]
    },
    {
      "cell_type": "markdown",
      "source": [
        "**`all()` function**\n",
        "\n",
        "The `all()` function returns `True` if all items in an iterable are true, otherwise it returns False. If the iterable object is empty, the `all()` function also returns `True`."
      ],
      "metadata": {
        "id": "bNG41RcoXGfs"
      }
    },
    {
      "cell_type": "code",
      "source": [
        "# all() function example\n",
        "mylist = [True, True, True]\n",
        "x = all(mylist)\n",
        "print(x)"
      ],
      "metadata": {
        "colab": {
          "base_uri": "https://localhost:8080/"
        },
        "id": "_BNMfp2zPlkV",
        "outputId": "28a619db-ad09-4c23-b694-39c71d99c9b1"
      },
      "execution_count": 73,
      "outputs": [
        {
          "output_type": "stream",
          "name": "stdout",
          "text": [
            "True\n"
          ]
        }
      ]
    },
    {
      "cell_type": "markdown",
      "source": [
        "# The largest of three numbers"
      ],
      "metadata": {
        "id": "ojAsJkKfZDrU"
      }
    },
    {
      "cell_type": "code",
      "source": [
        "# A python program to find the larges of three numbers\n",
        "num1 = int(input(\"Enter first number: \"))\n",
        "num2 = int(input(\"Enter second number: \"))\n",
        "num3 = int(input(\"Enter third number: \"))\n",
        "\n",
        "if (num1 > num2) and (num1 > num3):\n",
        "  largest = num1\n",
        "elif (num2 > num1) and (num2 > num3):\n",
        "  largest = num2\n",
        "else:\n",
        "  largest = num3\n",
        "\n",
        "print(\"The largest number is\", largest,\".\")\n"
      ],
      "metadata": {
        "colab": {
          "base_uri": "https://localhost:8080/"
        },
        "id": "h3KtiSSjMy_t",
        "outputId": "133ebd48-8c20-4eaf-ec4e-846a3eb8b8ef"
      },
      "execution_count": 76,
      "outputs": [
        {
          "output_type": "stream",
          "name": "stdout",
          "text": [
            "Enter first number: 689\n",
            "Enter second number: 1979\n",
            "Enter third number: 1\n",
            "The largest number is 1979 .\n"
          ]
        }
      ]
    },
    {
      "cell_type": "code",
      "source": [
        "for i in range(2, 2):\n",
        "  if (2%i==0):\n",
        "    prime = False\n",
        "\n",
        "prime"
      ],
      "metadata": {
        "colab": {
          "base_uri": "https://localhost:8080/"
        },
        "id": "Ka6_myIBOdMR",
        "outputId": "a4a8c170-467b-4dca-ced6-ab8ef74cbef6"
      },
      "execution_count": 62,
      "outputs": [
        {
          "output_type": "execute_result",
          "data": {
            "text/plain": [
              "True"
            ]
          },
          "metadata": {},
          "execution_count": 62
        }
      ]
    },
    {
      "cell_type": "code",
      "source": [
        "for j in range(2, 5):\n",
        "  print(5-j)"
      ],
      "metadata": {
        "colab": {
          "base_uri": "https://localhost:8080/"
        },
        "id": "YDuiKlUfTZll",
        "outputId": "2dd5bb1f-7b23-48ba-de83-5cd8086a5cbf"
      },
      "execution_count": 69,
      "outputs": [
        {
          "output_type": "stream",
          "name": "stdout",
          "text": [
            "3\n",
            "2\n",
            "1\n"
          ]
        }
      ]
    },
    {
      "cell_type": "code",
      "source": [
        "9%i ==0"
      ],
      "metadata": {
        "colab": {
          "base_uri": "https://localhost:8080/"
        },
        "id": "VuCajPrWNy31",
        "outputId": "da930c14-0471-4438-b1a4-9456b2f705c9"
      },
      "execution_count": 53,
      "outputs": [
        {
          "output_type": "execute_result",
          "data": {
            "text/plain": [
              "False"
            ]
          },
          "metadata": {},
          "execution_count": 53
        }
      ]
    }
  ]
}