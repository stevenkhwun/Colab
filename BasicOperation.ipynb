{
  "nbformat": 4,
  "nbformat_minor": 0,
  "metadata": {
    "colab": {
      "provenance": [],
      "toc_visible": true,
      "authorship_tag": "ABX9TyNkK2rYk0w9FjTbi9pWhw9P",
      "include_colab_link": true
    },
    "kernelspec": {
      "name": "python3",
      "display_name": "Python 3"
    },
    "language_info": {
      "name": "python"
    }
  },
  "cells": [
    {
      "cell_type": "markdown",
      "metadata": {
        "id": "view-in-github",
        "colab_type": "text"
      },
      "source": [
        "<a href=\"https://colab.research.google.com/github/stevenkhwun/Colab/blob/main/BasicOperation.ipynb\" target=\"_parent\"><img src=\"https://colab.research.google.com/assets/colab-badge.svg\" alt=\"Open In Colab\"/></a>"
      ]
    },
    {
      "cell_type": "markdown",
      "source": [
        "# Introduction\n",
        "\n",
        "This notebook contains some basic commands in using Colab and is based on the article from the website https://www.jcchouinard.com/google-colab-with-python/."
      ],
      "metadata": {
        "id": "M6amVb2Hewfw"
      }
    },
    {
      "cell_type": "markdown",
      "source": [
        "# Display installed packages"
      ],
      "metadata": {
        "id": "31W6k0WL3DIk"
      }
    },
    {
      "cell_type": "markdown",
      "source": [
        "Colab has pre-installed many packages. You can get a complete list of pr-installed packages by the following command.\n",
        "```\n",
        "# Check the full list of packages\n",
        "!pip list -v\n",
        "```"
      ],
      "metadata": {
        "id": "631OLKXe2av3"
      }
    },
    {
      "cell_type": "markdown",
      "source": [
        "The code has not been executed since it will give a very long list of packages. Instead, you can display a list of installed packages contains specific characters by using `grep`."
      ],
      "metadata": {
        "id": "sna3KscK3lQm"
      }
    },
    {
      "cell_type": "code",
      "source": [
        "# Search through the files for \"tensorflow\" using \"grep\"\n",
        "!pip list -v | grep tensorflow"
      ],
      "metadata": {
        "colab": {
          "base_uri": "https://localhost:8080/"
        },
        "id": "CNm52mBb3K95",
        "outputId": "5dad67ba-f7a4-42d3-c711-4106d75db1e2"
      },
      "execution_count": 1,
      "outputs": [
        {
          "output_type": "stream",
          "name": "stdout",
          "text": [
            "tensorflow                    2.9.2                  /usr/local/lib/python3.8/dist-packages pip\n",
            "tensorflow-datasets           4.8.2                  /usr/local/lib/python3.8/dist-packages pip\n",
            "tensorflow-estimator          2.9.0                  /usr/local/lib/python3.8/dist-packages pip\n",
            "tensorflow-gcs-config         2.9.1                  /usr/local/lib/python3.8/dist-packages pip\n",
            "tensorflow-hub                0.12.0                 /usr/local/lib/python3.8/dist-packages pip\n",
            "tensorflow-io-gcs-filesystem  0.30.0                 /usr/local/lib/python3.8/dist-packages pip\n",
            "tensorflow-metadata           1.12.0                 /usr/local/lib/python3.8/dist-packages pip\n",
            "tensorflow-probability        0.17.0                 /usr/local/lib/python3.8/dist-packages pip\n"
          ]
        }
      ]
    },
    {
      "cell_type": "markdown",
      "source": [
        "If you want to use a specific package and wonder if it had already installed, you can seach for this particular package using the above command. For example, if you don't know whether `wquantiles` has been installed, you can execute the following command."
      ],
      "metadata": {
        "id": "S-d9aQPDPz8n"
      }
    },
    {
      "cell_type": "code",
      "source": [
        "# Search for the package \"wquantiles\"\n",
        "!pip list -v | grep wquantiles"
      ],
      "metadata": {
        "id": "2iITYwcOWw_8",
        "colab": {
          "base_uri": "https://localhost:8080/"
        },
        "outputId": "a96735a3-fd7a-43a4-c825-06d427f74c96"
      },
      "execution_count": 2,
      "outputs": [
        {
          "output_type": "stream",
          "name": "stdout",
          "text": [
            "wquantiles                    0.6                    /usr/local/lib/python3.8/dist-packages pip\n"
          ]
        }
      ]
    },
    {
      "cell_type": "markdown",
      "source": [
        "The above code will return nothing if the target package has not been found."
      ],
      "metadata": {
        "id": "bxHzGreqQ9xE"
      }
    },
    {
      "cell_type": "markdown",
      "source": [
        "# Install packages"
      ],
      "metadata": {
        "id": "67vARftRcduf"
      }
    },
    {
      "cell_type": "markdown",
      "source": [
        "To install a package, simple execute the following code."
      ],
      "metadata": {
        "id": "2oVLcdyAREjx"
      }
    },
    {
      "cell_type": "code",
      "source": [
        "# Install the package \"wquantiles\"\n",
        "!pip install wquantiles"
      ],
      "metadata": {
        "id": "rKeBy5kTbl9d",
        "colab": {
          "base_uri": "https://localhost:8080/"
        },
        "outputId": "3a78fbe7-6ee3-4c46-b7ff-4562571f17d4"
      },
      "execution_count": 3,
      "outputs": [
        {
          "output_type": "stream",
          "name": "stdout",
          "text": [
            "Looking in indexes: https://pypi.org/simple, https://us-python.pkg.dev/colab-wheels/public/simple/\n",
            "Collecting wquantiles\n",
            "  Downloading wquantiles-0.6-py3-none-any.whl (3.3 kB)\n",
            "Requirement already satisfied: numpy>=1.18 in /usr/local/lib/python3.8/dist-packages (from wquantiles) (1.21.6)\n",
            "Installing collected packages: wquantiles\n",
            "Successfully installed wquantiles-0.6\n"
          ]
        }
      ]
    },
    {
      "cell_type": "code",
      "source": [
        "# Search for the package \"wquantiles\"\n",
        "!pip list -v | grep wquantiles"
      ],
      "metadata": {
        "id": "C-tBQfmwihCH",
        "colab": {
          "base_uri": "https://localhost:8080/"
        },
        "outputId": "7a803460-7800-49d2-92f5-a53497ec8531"
      },
      "execution_count": 5,
      "outputs": [
        {
          "output_type": "stream",
          "name": "stdout",
          "text": [
            "wquantiles                    0.6                    /usr/local/lib/python3.8/dist-packages pip\n"
          ]
        }
      ]
    },
    {
      "cell_type": "markdown",
      "source": [
        "# Import packages"
      ],
      "metadata": {
        "id": "gRuJhni1jDBq"
      }
    },
    {
      "cell_type": "code",
      "source": [
        "%matplotlib inline\n",
        "\n",
        "from pathlib import Path\n",
        "\n",
        "import pandas as pd\n",
        "import numpy as np\n",
        "from scipy.stats import trim_mean\n",
        "from statsmodels import robust\n",
        "import wquantiles\n",
        "\n",
        "import seaborn as sns\n",
        "import matplotlib.pylab as plt"
      ],
      "metadata": {
        "id": "_FSjH36IWIOb"
      },
      "execution_count": null,
      "outputs": []
    },
    {
      "cell_type": "markdown",
      "source": [
        "#Read data from the internet"
      ],
      "metadata": {
        "id": "eNwRC_ATenE1"
      }
    },
    {
      "cell_type": "code",
      "source": [
        "STATE_CSV = \"https://raw.githubusercontent.com/gedeck/practical-statistics-for-data-scientists/master/data/state.csv\""
      ],
      "metadata": {
        "id": "fZouFwvQWpcU"
      },
      "execution_count": null,
      "outputs": []
    },
    {
      "cell_type": "code",
      "source": [
        "# Example 1\n",
        "state = pd.read_csv(STATE_CSV)\n",
        "print(state.head(8))"
      ],
      "metadata": {
        "id": "JqiTl-30XYth"
      },
      "execution_count": null,
      "outputs": []
    },
    {
      "cell_type": "code",
      "source": [
        "# Example 2\n",
        "url = \"https://github.com/stevenkhwun/EconometricsUsingR/raw/main/Data/EAWE21.csv\"\n",
        "df1 = pd.read_csv(url)\n",
        "df1"
      ],
      "metadata": {
        "id": "Gp05yVC1frUv"
      },
      "execution_count": null,
      "outputs": []
    }
  ]
}