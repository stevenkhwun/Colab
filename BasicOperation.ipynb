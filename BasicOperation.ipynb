{
  "nbformat": 4,
  "nbformat_minor": 0,
  "metadata": {
    "colab": {
      "provenance": [],
      "toc_visible": true,
      "authorship_tag": "ABX9TyM3Y0mdl2TMi9HlIXbcygt8",
      "include_colab_link": true
    },
    "kernelspec": {
      "name": "python3",
      "display_name": "Python 3"
    },
    "language_info": {
      "name": "python"
    }
  },
  "cells": [
    {
      "cell_type": "markdown",
      "metadata": {
        "id": "view-in-github",
        "colab_type": "text"
      },
      "source": [
        "<a href=\"https://colab.research.google.com/github/stevenkhwun/Colab/blob/main/BasicOperation.ipynb\" target=\"_parent\"><img src=\"https://colab.research.google.com/assets/colab-badge.svg\" alt=\"Open In Colab\"/></a>"
      ]
    },
    {
      "cell_type": "markdown",
      "source": [
        "#Introduction\n",
        "\n",
        "This notebook contains some basic commands in using Colab and is based on the article from the website https://www.jcchouinard.com/google-colab-with-python/."
      ],
      "metadata": {
        "id": "M6amVb2Hewfw"
      }
    },
    {
      "cell_type": "markdown",
      "source": [
        "#Display installed packages"
      ],
      "metadata": {
        "id": "31W6k0WL3DIk"
      }
    },
    {
      "cell_type": "markdown",
      "source": [
        "Colab has pre-installed many packages. You can get a complete list of pr-installed packages by the following command.\n",
        "```\n",
        "# Check the full list of packages\n",
        "!pip list -v\n",
        "```"
      ],
      "metadata": {
        "id": "631OLKXe2av3"
      }
    },
    {
      "cell_type": "markdown",
      "source": [
        "The result of the above code is very long and the code has not been executed. Instead, you can display the list of installed packages contains specific letters by using `grep`."
      ],
      "metadata": {
        "id": "sna3KscK3lQm"
      }
    },
    {
      "cell_type": "code",
      "source": [
        "# Or even search through the files using \"grep\"\n",
        "!pip list -v | grep tensorflow"
      ],
      "metadata": {
        "colab": {
          "base_uri": "https://localhost:8080/"
        },
        "id": "CNm52mBb3K95",
        "outputId": "f5841307-dabf-453f-ade8-0452b1539dc4"
      },
      "execution_count": 4,
      "outputs": [
        {
          "output_type": "stream",
          "name": "stdout",
          "text": [
            "tensorflow                    2.9.2                  /usr/local/lib/python3.8/dist-packages pip\n",
            "tensorflow-datasets           4.8.2                  /usr/local/lib/python3.8/dist-packages pip\n",
            "tensorflow-estimator          2.9.0                  /usr/local/lib/python3.8/dist-packages pip\n",
            "tensorflow-gcs-config         2.9.1                  /usr/local/lib/python3.8/dist-packages pip\n",
            "tensorflow-hub                0.12.0                 /usr/local/lib/python3.8/dist-packages pip\n",
            "tensorflow-io-gcs-filesystem  0.30.0                 /usr/local/lib/python3.8/dist-packages pip\n",
            "tensorflow-metadata           1.12.0                 /usr/local/lib/python3.8/dist-packages pip\n",
            "tensorflow-probability        0.17.0                 /usr/local/lib/python3.8/dist-packages pip\n"
          ]
        }
      ]
    },
    {
      "cell_type": "code",
      "source": [
        "# Or even search through the files using \"grep\"\n",
        "!pip list -v | grep tensorflow"
      ],
      "metadata": {
        "id": "6UJst8HS4W_i"
      },
      "execution_count": null,
      "outputs": []
    },
    {
      "cell_type": "code",
      "source": [
        "# Install the package \"wquantiles\"\n",
        "!pip install wquantiles"
      ],
      "metadata": {
        "id": "2iITYwcOWw_8",
        "colab": {
          "base_uri": "https://localhost:8080/"
        },
        "outputId": "bb46b7e7-f047-45dd-af0f-77b2feb5341c"
      },
      "execution_count": 5,
      "outputs": [
        {
          "output_type": "stream",
          "name": "stdout",
          "text": [
            "Looking in indexes: https://pypi.org/simple, https://us-python.pkg.dev/colab-wheels/public/simple/\n",
            "Collecting wquantiles\n",
            "  Downloading wquantiles-0.6-py3-none-any.whl (3.3 kB)\n",
            "Requirement already satisfied: numpy>=1.18 in /usr/local/lib/python3.8/dist-packages (from wquantiles) (1.21.6)\n",
            "Installing collected packages: wquantiles\n",
            "Successfully installed wquantiles-0.6\n"
          ]
        }
      ]
    },
    {
      "cell_type": "markdown",
      "source": [
        "#Display installed packages"
      ],
      "metadata": {
        "id": "67vARftRcduf"
      }
    },
    {
      "cell_type": "code",
      "source": [
        "# Check the full list of packages\n",
        "!pip list -v"
      ],
      "metadata": {
        "id": "rKeBy5kTbl9d"
      },
      "execution_count": null,
      "outputs": []
    },
    {
      "cell_type": "code",
      "source": [
        "# Or even search through the files using \"grep\"\n",
        "!pip list -v | grep wquantiles"
      ],
      "metadata": {
        "id": "C-tBQfmwihCH"
      },
      "execution_count": null,
      "outputs": []
    },
    {
      "cell_type": "markdown",
      "source": [
        "# Import packages"
      ],
      "metadata": {
        "id": "gRuJhni1jDBq"
      }
    },
    {
      "cell_type": "code",
      "source": [
        "%matplotlib inline\n",
        "\n",
        "from pathlib import Path\n",
        "\n",
        "import pandas as pd\n",
        "import numpy as np\n",
        "from scipy.stats import trim_mean\n",
        "from statsmodels import robust\n",
        "import wquantiles\n",
        "\n",
        "import seaborn as sns\n",
        "import matplotlib.pylab as plt"
      ],
      "metadata": {
        "id": "_FSjH36IWIOb"
      },
      "execution_count": null,
      "outputs": []
    },
    {
      "cell_type": "markdown",
      "source": [
        "#Read data from the internet"
      ],
      "metadata": {
        "id": "eNwRC_ATenE1"
      }
    },
    {
      "cell_type": "code",
      "source": [
        "STATE_CSV = \"https://raw.githubusercontent.com/gedeck/practical-statistics-for-data-scientists/master/data/state.csv\""
      ],
      "metadata": {
        "id": "fZouFwvQWpcU"
      },
      "execution_count": null,
      "outputs": []
    },
    {
      "cell_type": "code",
      "source": [
        "# Example 1\n",
        "state = pd.read_csv(STATE_CSV)\n",
        "print(state.head(8))"
      ],
      "metadata": {
        "id": "JqiTl-30XYth"
      },
      "execution_count": null,
      "outputs": []
    },
    {
      "cell_type": "code",
      "source": [
        "# Example 2\n",
        "url = \"https://github.com/stevenkhwun/EconometricsUsingR/raw/main/Data/EAWE21.csv\"\n",
        "df1 = pd.read_csv(url)\n",
        "df1"
      ],
      "metadata": {
        "id": "Gp05yVC1frUv"
      },
      "execution_count": null,
      "outputs": []
    }
  ]
}