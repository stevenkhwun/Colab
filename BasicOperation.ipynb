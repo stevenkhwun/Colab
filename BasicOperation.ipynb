{
  "nbformat": 4,
  "nbformat_minor": 0,
  "metadata": {
    "colab": {
      "provenance": [],
      "toc_visible": true,
      "authorship_tag": "ABX9TyNRpGNSRg4oSN8hPBySWV2A",
      "include_colab_link": true
    },
    "kernelspec": {
      "name": "python3",
      "display_name": "Python 3"
    },
    "language_info": {
      "name": "python"
    }
  },
  "cells": [
    {
      "cell_type": "markdown",
      "metadata": {
        "id": "view-in-github",
        "colab_type": "text"
      },
      "source": [
        "<a href=\"https://colab.research.google.com/github/stevenkhwun/Colab/blob/main/BasicOperation.ipynb\" target=\"_parent\"><img src=\"https://colab.research.google.com/assets/colab-badge.svg\" alt=\"Open In Colab\"/></a>"
      ]
    },
    {
      "cell_type": "markdown",
      "source": [
        "#Introduction\n",
        "\n",
        "This notebook contains some basic commands in using Colab and is based on the article from the website https://www.jcchouinard.com/google-colab-with-python/."
      ],
      "metadata": {
        "id": "M6amVb2Hewfw"
      }
    },
    {
      "cell_type": "markdown",
      "source": [
        "#Install packages"
      ],
      "metadata": {
        "id": "U2tfi7jybc3f"
      }
    },
    {
      "cell_type": "code",
      "source": [
        "# Install the package \"wquantiles\"\n",
        "!pip install wquantiles"
      ],
      "metadata": {
        "id": "2iITYwcOWw_8"
      },
      "execution_count": null,
      "outputs": []
    },
    {
      "cell_type": "markdown",
      "source": [
        "#Display installed packages"
      ],
      "metadata": {
        "id": "67vARftRcduf"
      }
    },
    {
      "cell_type": "code",
      "source": [
        "# Check the full list of packages\n",
        "!pip list -v"
      ],
      "metadata": {
        "id": "rKeBy5kTbl9d"
      },
      "execution_count": null,
      "outputs": []
    },
    {
      "cell_type": "code",
      "source": [
        "# Or even search through the files using \"grep\"\n",
        "!pip list -v | grep wquantiles"
      ],
      "metadata": {
        "id": "C-tBQfmwihCH"
      },
      "execution_count": null,
      "outputs": []
    },
    {
      "cell_type": "markdown",
      "source": [
        "# Import packages"
      ],
      "metadata": {
        "id": "gRuJhni1jDBq"
      }
    },
    {
      "cell_type": "code",
      "source": [
        "%matplotlib inline\n",
        "\n",
        "from pathlib import Path\n",
        "\n",
        "import pandas as pd\n",
        "import numpy as np\n",
        "from scipy.stats import trim_mean\n",
        "from statsmodels import robust\n",
        "import wquantiles\n",
        "\n",
        "import seaborn as sns\n",
        "import matplotlib.pylab as plt"
      ],
      "metadata": {
        "id": "_FSjH36IWIOb"
      },
      "execution_count": null,
      "outputs": []
    },
    {
      "cell_type": "markdown",
      "source": [
        "#Read data from the internet"
      ],
      "metadata": {
        "id": "eNwRC_ATenE1"
      }
    },
    {
      "cell_type": "code",
      "source": [
        "STATE_CSV = \"https://raw.githubusercontent.com/gedeck/practical-statistics-for-data-scientists/master/data/state.csv\""
      ],
      "metadata": {
        "id": "fZouFwvQWpcU"
      },
      "execution_count": 16,
      "outputs": []
    },
    {
      "cell_type": "code",
      "source": [
        "# Example 1\n",
        "state = pd.read_csv(STATE_CSV)\n",
        "print(state.head(8))"
      ],
      "metadata": {
        "id": "JqiTl-30XYth"
      },
      "execution_count": null,
      "outputs": []
    },
    {
      "cell_type": "code",
      "source": [
        "# Example 2\n",
        "url = \"https://github.com/stevenkhwun/EconometricsUsingR/raw/main/Data/EAWE21.csv\"\n",
        "df1 = pd.read_csv(url)\n",
        "df1"
      ],
      "metadata": {
        "id": "Gp05yVC1frUv"
      },
      "execution_count": null,
      "outputs": []
    }
  ]
}