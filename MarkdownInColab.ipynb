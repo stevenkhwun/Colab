{
  "nbformat": 4,
  "nbformat_minor": 0,
  "metadata": {
    "colab": {
      "provenance": [],
      "toc_visible": true,
      "authorship_tag": "ABX9TyPrGPeIfvQNua7/NVstWbhT",
      "include_colab_link": true
    },
    "kernelspec": {
      "name": "python3",
      "display_name": "Python 3"
    },
    "language_info": {
      "name": "python"
    }
  },
  "cells": [
    {
      "cell_type": "markdown",
      "metadata": {
        "id": "view-in-github",
        "colab_type": "text"
      },
      "source": [
        "<a href=\"https://colab.research.google.com/github/stevenkhwun/Colab/blob/main/MarkdownInColab.ipynb\" target=\"_parent\"><img src=\"https://colab.research.google.com/assets/colab-badge.svg\" alt=\"Open In Colab\"/></a>"
      ]
    },
    {
      "cell_type": "markdown",
      "source": [
        "Markdown and HTML code in Colab"
      ],
      "metadata": {
        "id": "5En0UaMWtyh3"
      }
    },
    {
      "cell_type": "markdown",
      "source": [
        "# Heading"
      ],
      "metadata": {
        "id": "K4rpPRr2t-2J"
      }
    },
    {
      "cell_type": "markdown",
      "source": [
        "**Markdown**\n",
        "\n",
        "Use `# heading-name`, the more you append `#` the size of the heading decreases.\n",
        "\n",
        "```\n",
        "# Heading 1\n",
        "## Heading 2\n",
        "###### Heading 6\n",
        "```\n",
        "\n",
        "\n",
        "**HTML**\n",
        "\n",
        "You can use **HTML** such as **h1, h2, h3, h5 and h6** for headings.\n",
        "```\n",
        "<h1> Heading 1 </h1>\n",
        "<h3> Heading 3 </h3>\n",
        "<h4> Heading 4 </h4>\n",
        "```\n",
        "Please note that if you use **HTML** as the heading code, section of that code will not be displayed in the left panel content in Colab.\n",
        "\n",
        "Further, all the other **Markdown** codes for other text formats will not be executed in the same cell."
      ],
      "metadata": {
        "id": "aq75_aACudIY"
      }
    },
    {
      "cell_type": "markdown",
      "source": [],
      "metadata": {
        "id": "4V-yV9X-zP1J"
      }
    },
    {
      "cell_type": "markdown",
      "source": [],
      "metadata": {
        "id": "TT36Nkeiv4yC"
      }
    }
  ]
}